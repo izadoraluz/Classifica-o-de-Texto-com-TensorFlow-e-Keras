{
  "cells": [
    {
      "cell_type": "markdown",
      "metadata": {
        "id": "VFjJU1T5UJE7"
      },
      "source": [
        "# Introdução\n",
        "Este notebook contém o treinamento de uma rede neural para a classificação de textos utilizando as bibliotecas Keras e TensorFlow. Ele é baseado no tutorial oficial de classificação de texto do TensorFlow, que aborda os conceitos e as técnicas necessárias para realizar tarefas de processamento de linguagem natural (PLN) e pode ser acessado [nesse link](https://www.tensorflow.org/tutorials/keras/text_classification?hl=pt-br).\n",
        "\n"
      ]
    },
    {
      "cell_type": "code",
      "execution_count": null,
      "metadata": {
        "id": "Qduq59UPTpe1"
      },
      "outputs": [],
      "source": [
        "# Importações:\n",
        "import tensorflow as tf\n",
        "from tensorflow import keras\n",
        "import numpy as np\n",
        "import pickle"
      ]
    },
    {
      "cell_type": "markdown",
      "metadata": {
        "id": "j4Z7V3SKTmcP"
      },
      "source": [
        "## Parte 1: Criaçãod o modelo"
      ]
    },
    {
      "cell_type": "code",
      "execution_count": null,
      "metadata": {
        "id": "aG9undJsTrl6"
      },
      "outputs": [],
      "source": [
        "# Baixando a base de dados\n",
        "imdb = keras.datasets.imdb\n",
        "(train_data, train_labels), (test_data, test_labels) = imdb.load_data(num_words=10000)"
      ]
    },
    {
      "cell_type": "code",
      "execution_count": null,
      "metadata": {
        "id": "bkI16XZqTu4T"
      },
      "outputs": [],
      "source": [
        "# Convertendo inteiros de volta para palavras\n",
        "word_index = imdb.get_word_index()\n",
        "word_index = {k:(v+3) for k,v in word_index.items()}\n",
        "word_index[\"<PAD>\"] = 0\n",
        "word_index[\"<START>\"] = 1\n",
        "word_index[\"<UNK>\"] = 2\n",
        "word_index[\"<UNUSED>\"] = 3\n",
        "\n",
        "reverse_word_index = dict([(value, key) for (key, value) in word_index.items()])\n",
        "\n",
        "def decode_review(text):\n",
        "    return ' '.join([reverse_word_index.get(i, '?') for i in text])"
      ]
    },
    {
      "cell_type": "code",
      "execution_count": null,
      "metadata": {
        "colab": {
          "base_uri": "https://localhost:8080/"
        },
        "id": "JAthcZ6GT8ET",
        "outputId": "45322973-dbac-498e-9a17-ce3d2ffd85c2"
      },
      "outputs": [],
      "source": [
        "# Exibindo o texto decodificado da primeira revisão\n",
        "print(decode_review(train_data[0]))"
      ]
    },
    {
      "cell_type": "code",
      "execution_count": null,
      "metadata": {
        "id": "Praw8eqcT69_"
      },
      "outputs": [],
      "source": [
        "# Preparando os dados\n",
        "train_data = keras.preprocessing.sequence.pad_sequences(train_data,\n",
        "                                                        value=word_index[\"<PAD>\"],\n",
        "                                                        padding='post',\n",
        "                                                        maxlen=256)\n",
        "\n",
        "test_data = keras.preprocessing.sequence.pad_sequences(test_data,\n",
        "                                                       value=word_index[\"<PAD>\"],\n",
        "                                                       padding='post',\n",
        "                                                       maxlen=256)"
      ]
    },
    {
      "cell_type": "code",
      "execution_count": null,
      "metadata": {
        "colab": {
          "base_uri": "https://localhost:8080/"
        },
        "id": "GpIT_jXHUB6C",
        "outputId": "b01116d7-c2ff-40b2-d242-6ab0dcf8b237"
      },
      "outputs": [],
      "source": [
        "# Construindo o modelo\n",
        "vocab_size = 10000\n",
        "model = keras.Sequential()\n",
        "model.add(keras.layers.Embedding(vocab_size, 16))\n",
        "model.add(keras.layers.GlobalAveragePooling1D())\n",
        "model.add(keras.layers.Dense(16, activation='relu'))\n",
        "model.add(keras.layers.Dense(1, activation='sigmoid'))\n",
        "\n",
        "model.summary()"
      ]
    },
    {
      "cell_type": "code",
      "execution_count": null,
      "metadata": {
        "id": "bjwghqGiUAp0"
      },
      "outputs": [],
      "source": [
        "# Compilando o modelo\n",
        "model.compile(optimizer='adam',\n",
        "              loss='binary_crossentropy',\n",
        "              metrics=['accuracy'])"
      ]
    },
    {
      "cell_type": "code",
      "execution_count": null,
      "metadata": {
        "colab": {
          "base_uri": "https://localhost:8080/"
        },
        "id": "oXVrVWsgUDPp",
        "outputId": "d7b58953-9da6-44ef-e2e6-f56c60a7a014"
      },
      "outputs": [],
      "source": [
        "# Criando um conjunto de validação\n",
        "x_val = train_data[:10000]\n",
        "partial_x_train = train_data[10000:]\n",
        "\n",
        "y_val = train_labels[:10000]\n",
        "partial_y_train = train_labels[10000:]\n",
        "\n",
        "# Treinando o modelo\n",
        "history = model.fit(partial_x_train,\n",
        "                    partial_y_train,\n",
        "                    epochs=40,\n",
        "                    batch_size=512,\n",
        "                    validation_data=(x_val, y_val),\n",
        "                    verbose=1)\n"
      ]
    },
    {
      "cell_type": "code",
      "execution_count": null,
      "metadata": {
        "colab": {
          "base_uri": "https://localhost:8080/"
        },
        "id": "-3cK8vYBUEeo",
        "outputId": "4330d2e5-83cf-4535-9c15-eab932106b78"
      },
      "outputs": [],
      "source": [
        "# Avaliando o modelo\n",
        "results = model.evaluate(test_data, test_labels, verbose=2)\n",
        "print(results)"
      ]
    },
    {
      "cell_type": "code",
      "execution_count": null,
      "metadata": {
        "id": "BbyKLFgIUHBm"
      },
      "outputs": [],
      "source": [
        "# Salvando o modelo usando pickle\n",
        "with open('text_classification_model.pkl', 'wb') as file:\n",
        "    pickle.dump(model, file)\n"
      ]
    },
    {
      "cell_type": "code",
      "execution_count": null,
      "metadata": {
        "id": "qW58yrORULTc"
      },
      "outputs": [],
      "source": [
        "# Função para classificar novos dados\n",
        "def classify_new_review(new_review, model_file='text_classification_model.pkl'):\n",
        "    # Carregando o modelo treinado\n",
        "    with open(model_file, 'rb') as file:\n",
        "        model = pickle.load(file)\n",
        "\n",
        "    # Processando o novo review\n",
        "    new_review = keras.preprocessing.sequence.pad_sequences([new_review],\n",
        "                                                             value=word_index[\"<PAD>\"],\n",
        "                                                             padding='post',\n",
        "                                                             maxlen=256)\n",
        "    # Fazendo a previsão\n",
        "    prediction = model.predict(new_review)\n",
        "    return prediction[0][0]"
      ]
    },
    {
      "cell_type": "code",
      "execution_count": null,
      "metadata": {
        "colab": {
          "base_uri": "https://localhost:8080/"
        },
        "id": "yf16zr4zUFqw",
        "outputId": "5cd8d336-4dfa-498b-baf1-6446ffbd7dc0"
      },
      "outputs": [],
      "source": [
        "# Exemplo de uso da função classify_new_review\n",
        "new_review = [1, 14, 22, 16, 43, 530, 973, 1622, 1385, 65, 458, 4468, 66, 3941, 4, 173, 36, 256, 5, 25, 100, 43, 838, 112, 50, 670, 2, 9, 35, 480, 284, 5, 150, 4, 172, 112, 167, 2, 336, 385, 39, 4, 172, 4536, 1111, 17, 546, 38, 13, 447, 4, 192, 50, 16, 6, 147, 2025, 19, 14, 22, 4, 1920, 4613, 469, 4, 22, 71, 87, 12, 16, 43, 530, 38, 76, 15, 13, 1247, 4, 22, 17, 515, 17, 12, 16, 626, 18, 2, 5, 62, 386, 12, 8, 316, 8, 106, 5, 4, 2223, 5244, 16, 480, 66, 3785, 33, 4, 130, 12, 16, 38, 619, 5, 25, 124, 51, 36, 135, 48, 25, 1415, 33, 6, 22, 12, 215, 28, 77, 52, 5, 14, 407, 16, 82, 2, 8, 4, 107, 117, 5952, 15, 256, 4, 2, 7, 3766, 5, 723, 36, 71, 43, 530, 476, 26, 400, 317, 46, 7, 4, 2, 1029, 13, 104, 88, 4, 381, 15, 297, 98, 32, 2071, 56, 26, 141, 6, 194, 7486, 18, 4, 226, 22, 21, 134, 476, 26, 480, 5, 144, 30, 5535, 18, 51, 36, 28, 224, 92, 25, 104, 4, 226, 65, 16, 38, 1334, 88, 12, 16, 283, 5, 16, 4472, 113, 103, 32, 15, 16, 5345, 19, 178, 32]\n",
        "\n",
        "print(classify_new_review(new_review))\n"
      ]
    },
    {
      "cell_type": "markdown",
      "metadata": {
        "id": "C1_ki0Y1UUHC"
      },
      "source": [
        "## Parte 2: Classificação binária de \"recomendação para um amigo\" do dataset da B2W"
      ]
    },
    {
      "cell_type": "code",
      "execution_count": null,
      "metadata": {
        "colab": {
          "base_uri": "https://localhost:8080/",
          "height": 625
        },
        "id": "qolIsj9IU3Cm",
        "outputId": "3d9ac8d5-1fa5-45d0-e20a-7dbadec9b26c"
      },
      "outputs": [],
      "source": [
        "import pandas as pd\n",
        "data = pd.read_csv('B2W-Reviews01.csv')\n",
        "\n",
        "data.head()"
      ]
    },
    {
      "cell_type": "code",
      "execution_count": null,
      "metadata": {
        "id": "O1quHyqxWa4O"
      },
      "outputs": [],
      "source": [
        "# Selecionando colunas relevantes e removendo linhas com valores ausentes\n",
        "data = data[['review_text', 'recommend_to_a_friend']].dropna()\n",
        "\n",
        "# Convertendo a coluna 'recommend_to_a_friend' para valores binários\n",
        "data['recommend_to_a_friend'] = data['recommend_to_a_friend'].apply(lambda x: 1 if x.lower() == 'yes' else 0)\n",
        "\n",
        "# Separando as features (X) e os labels (y)\n",
        "X = data['review_text']\n",
        "y = data['recommend_to_a_friend']\n",
        "\n",
        "# Tokenização e padronização das sequências de texto\n",
        "tokenizer = keras.preprocessing.text.Tokenizer(num_words=10000)\n",
        "tokenizer.fit_on_texts(X)\n",
        "X = tokenizer.texts_to_sequences(X)\n",
        "X = keras.preprocessing.sequence.pad_sequences(X, maxlen=256)\n",
        "\n",
        "# Dividindo os dados em conjuntos de treinamento e teste\n",
        "train_size = int(len(X) * 0.8)\n",
        "X_train, X_test = X[:train_size], X[train_size:]\n",
        "y_train, y_test = y[:train_size], y[train_size:]\n",
        "\n",
        "# Construindo o modelo\n",
        "vocab_size = 10000\n",
        "model = keras.Sequential()\n",
        "model.add(keras.layers.Embedding(vocab_size, 16))\n",
        "model.add(keras.layers.GlobalAveragePooling1D())\n",
        "model.add(keras.layers.Dense(16, activation='relu'))\n",
        "model.add(keras.layers.Dense(1, activation='sigmoid'))\n",
        "\n",
        "model.summary()\n",
        "\n",
        "# Compilando o modelo\n",
        "model.compile(optimizer='adam',\n",
        "              loss='binary_crossentropy',\n",
        "              metrics=['accuracy'])\n",
        "\n",
        "# Treinando o modelo\n",
        "history = model.fit(X_train, y_train,\n",
        "                    epochs=40,\n",
        "                    batch_size=512,\n",
        "                    validation_split=0.2,\n",
        "                    verbose=1)\n",
        "\n",
        "# Avaliando o modelo\n",
        "results = model.evaluate(X_test, y_test, verbose=2)\n",
        "print(results)\n",
        "\n",
        "# Salvando o modelo usando pickle\n",
        "with open('b2w_text_classification_model.pkl', 'wb') as file:\n",
        "    pickle.dump(model, file)\n",
        "\n",
        "# Salvando o tokenizador usando pickle\n",
        "with open('b2w_tokenizer.pkl', 'wb') as file:\n",
        "    pickle.dump(tokenizer, file)\n",
        "\n",
        "# Função para classificar novos dados\n",
        "def classify_new_review(new_review, model_file='b2w_text_classification_model.pkl', tokenizer_file='b2w_tokenizer.pkl'):\n",
        "    # Carregando o modelo treinado\n",
        "    with open(model_file, 'rb') as file:\n",
        "        model = pickle.load(file)\n",
        "\n",
        "    # Carregando o tokenizador\n",
        "    with open(tokenizer_file, 'rb') as file:\n",
        "        tokenizer = pickle.load(file)\n",
        "\n",
        "    # Processando o novo review\n",
        "    new_review_seq = tokenizer.texts_to_sequences([new_review])\n",
        "    new_review_padded = keras.preprocessing.sequence.pad_sequences(new_review_seq, maxlen=256)\n",
        "\n",
        "    # Fazendo a previsão\n",
        "    prediction = model.predict(new_review_padded)\n",
        "    return 'Yes' if prediction[0][0] > 0.5 else 'No'"
      ]
    },
    {
      "cell_type": "code",
      "execution_count": null,
      "metadata": {
        "colab": {
          "base_uri": "https://localhost:8080/",
          "height": 158
        },
        "id": "89KYORn_XU2X",
        "outputId": "8987a7df-f048-448d-bbee-026a18e9bbb2"
      },
      "outputs": [],
      "source": [
        "new_review = \"Este produto é excelente e eu recomendaria para qualquer pessoa!\"\n",
        "print(classify_new_review(new_review))"
      ]
    },
    {
      "cell_type": "code",
      "execution_count": null,
      "metadata": {
        "colab": {
          "base_uri": "https://localhost:8080/"
        },
        "id": "jcU2EyQjXWzD",
        "outputId": "5462123a-38e4-4417-80e6-dfc399fdc4b4"
      },
      "outputs": [],
      "source": [
        "new_review = \"Eu odiei muito, nunca mais vou assistit!\"\n",
        "print(classify_new_review(new_review))"
      ]
    }
  ],
  "metadata": {
    "colab": {
      "provenance": []
    },
    "kernelspec": {
      "display_name": "Python 3",
      "name": "python3"
    },
    "language_info": {
      "name": "python"
    }
  },
  "nbformat": 4,
  "nbformat_minor": 0
}
